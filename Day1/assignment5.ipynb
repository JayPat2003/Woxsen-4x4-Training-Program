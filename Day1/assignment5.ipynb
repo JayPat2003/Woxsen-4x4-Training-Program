{
  "cells": [
    {
      "cell_type": "markdown",
      "metadata": {
        "id": "mXm4qv7aI744"
      },
      "source": [
        "# Assignment 5\n",
        "\n",
        "## Jayesh Pattamatta - 21wWU0103004"
      ]
    },
    {
      "cell_type": "markdown",
      "metadata": {
        "id": "Mlwq8ITHln7g"
      },
      "source": [
        "**1. What does an empty dictionary's code look like?**\n",
        "\n",
        "**Ans.** `{}`\n",
        "\n",
        "\n",
        "---\n",
        "\n"
      ]
    },
    {
      "cell_type": "markdown",
      "metadata": {
        "id": "D6GvSy97mbEb"
      },
      "source": [
        "**2. What is the value of a dictionary value with the key 'foo' and the value 42?**"
      ]
    },
    {
      "cell_type": "code",
      "execution_count": 1,
      "metadata": {
        "colab": {
          "base_uri": "https://localhost:8080/"
        },
        "id": "_z554b5OmfQ7",
        "outputId": "8abd4ed2-41b7-4029-f587-ce5c7641b715"
      },
      "outputs": [
        {
          "output_type": "execute_result",
          "data": {
            "text/plain": [
              "{'foo': 42}"
            ]
          },
          "metadata": {},
          "execution_count": 1
        }
      ],
      "source": [
        "{'foo': 42}"
      ]
    },
    {
      "cell_type": "markdown",
      "metadata": {
        "id": "viH5obB1lX7K"
      },
      "source": [
        "**3. What is the most significant distinction between a dictionary and a list?**\n",
        "\n",
        "Most significant difference:\n",
        "* List - items in list are Ordered <br>\n",
        "* Dictionary : item in dictionary are unordered\n",
        "\n",
        "\n",
        "---\n",
        "\n"
      ]
    },
    {
      "cell_type": "markdown",
      "metadata": {
        "id": "UqWVUifCm1Jm"
      },
      "source": [
        "**4. What happens if you try to access spam['foo'] if spam is {'bar': 100}?**\n",
        "\n",
        "**Ans.** A `KeyError` is thrown\n",
        "\n",
        "\n",
        "---\n",
        "\n"
      ]
    },
    {
      "cell_type": "markdown",
      "metadata": {
        "id": "vbu45XksnUt5"
      },
      "source": [
        "**5. If a dictionary is stored in spam, what is the difference between the expressions 'cat' in spam and 'cat' in `spam.keys()`?**"
      ]
    },
    {
      "cell_type": "code",
      "execution_count": 2,
      "metadata": {
        "colab": {
          "base_uri": "https://localhost:8080/"
        },
        "id": "YEFzllnhm7su",
        "outputId": "8169bb47-781e-474d-c7b2-3ba1208c345f"
      },
      "outputs": [
        {
          "output_type": "execute_result",
          "data": {
            "text/plain": [
              "True"
            ]
          },
          "metadata": {},
          "execution_count": 2
        }
      ],
      "source": [
        "spam ={'cat':100}\n",
        "'cat' in spam"
      ]
    },
    {
      "cell_type": "code",
      "execution_count": 3,
      "metadata": {
        "colab": {
          "base_uri": "https://localhost:8080/"
        },
        "id": "i27uorfOntAE",
        "outputId": "ce3799ed-6d49-41a7-ec2d-073abd82cf46"
      },
      "outputs": [
        {
          "output_type": "execute_result",
          "data": {
            "text/plain": [
              "True"
            ]
          },
          "metadata": {},
          "execution_count": 3
        }
      ],
      "source": [
        "'cat' in spam.keys()\n",
        "#There is no differnce, both check if 'cat' is key of the dictionary and if its a key, returns True."
      ]
    },
    {
      "cell_type": "markdown",
      "metadata": {
        "id": "XVR0XMvXn6HL"
      },
      "source": [
        "**6. If a dictionary is stored in spam, what is the difference between the expressions 'cat' in spam and 'cat' in `spam.values()`?**"
      ]
    },
    {
      "cell_type": "code",
      "execution_count": 4,
      "metadata": {
        "colab": {
          "base_uri": "https://localhost:8080/"
        },
        "id": "m_6ZtEiWnu7p",
        "outputId": "52bb71a2-4a9e-4a17-d7c9-bb7d2831a34a"
      },
      "outputs": [
        {
          "output_type": "execute_result",
          "data": {
            "text/plain": [
              "True"
            ]
          },
          "metadata": {},
          "execution_count": 4
        }
      ],
      "source": [
        "spam ={'cat':100}\n",
        "'cat' in spam"
      ]
    },
    {
      "cell_type": "code",
      "execution_count": 5,
      "metadata": {
        "colab": {
          "base_uri": "https://localhost:8080/"
        },
        "id": "VnZO7b4mn9PT",
        "outputId": "ae46ca86-c0b4-473f-9a1f-ff0851da4fed"
      },
      "outputs": [
        {
          "output_type": "execute_result",
          "data": {
            "text/plain": [
              "False"
            ]
          },
          "metadata": {},
          "execution_count": 5
        }
      ],
      "source": [
        "spam ={'cat':100}\n",
        "'cat' in spam.values()\n",
        "\n",
        "#'cat' in spam checks whether there is a 'cat' key in the dictionary\n",
        "#'cat' in spam.values() checks whether there is a value 'cat' for one of the keys in spam."
      ]
    },
    {
      "cell_type": "markdown",
      "metadata": {
        "id": "69677woNoFf0"
      },
      "source": [
        "**7. What is a shortcut for the following code?**\n"
      ]
    },
    {
      "cell_type": "code",
      "execution_count": 6,
      "metadata": {
        "colab": {
          "base_uri": "https://localhost:8080/"
        },
        "id": "7OrXfRPfn-yL",
        "outputId": "a57e0af8-da64-4428-969f-89ff7b6a1b0c"
      },
      "outputs": [
        {
          "output_type": "execute_result",
          "data": {
            "text/plain": [
              "{'cat': 100, 'color': 'black'}"
            ]
          },
          "metadata": {},
          "execution_count": 6
        }
      ],
      "source": [
        "spam ={'cat':100}\n",
        "spam.setdefault('color','black')\n",
        "spam"
      ]
    },
    {
      "cell_type": "markdown",
      "metadata": {
        "id": "qhhOZRE7oWG6"
      },
      "source": [
        "**8. How do you 'pretty print' dictionary values using which module and function?**"
      ]
    },
    {
      "cell_type": "code",
      "execution_count": 7,
      "metadata": {
        "id": "wZuxoeFQoJhI"
      },
      "outputs": [],
      "source": [
        "import pprint\n",
        "dct = [{\"age\" : 15, \"gender\": \"male\", \"region\": \"tundra\"}, {\"age\": 21, \"gender\": \"female\", \"region\": \"tropical\"}\n",
        "]"
      ]
    },
    {
      "cell_type": "code",
      "execution_count": 9,
      "metadata": {
        "colab": {
          "base_uri": "https://localhost:8080/"
        },
        "id": "T1XiGRfooxpN",
        "outputId": "0be2d01d-9482-4616-da61-91633ad78207"
      },
      "outputs": [
        {
          "output_type": "stream",
          "name": "stdout",
          "text": [
            "[{'age': 15, 'gender': 'male', 'region': 'tundra'},\n",
            " {'age': 21, 'gender': 'female', 'region': 'tropical'}]\n"
          ]
        }
      ],
      "source": [
        "# printing with pprint()\n",
        "pprint.pprint(dct)"
      ]
    }
  ],
  "metadata": {
    "colab": {
      "provenance": []
    },
    "kernelspec": {
      "display_name": "computer-vision",
      "language": "python",
      "name": "python3"
    },
    "language_info": {
      "codemirror_mode": {
        "name": "ipython",
        "version": 3
      },
      "file_extension": ".py",
      "mimetype": "text/x-python",
      "name": "python",
      "nbconvert_exporter": "python",
      "pygments_lexer": "ipython3",
      "version": "3.7.12"
    }
  },
  "nbformat": 4,
  "nbformat_minor": 0
}