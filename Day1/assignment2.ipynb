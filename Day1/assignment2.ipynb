{
  "cells": [
    {
      "cell_type": "markdown",
      "metadata": {
        "id": "EipyOsfm-Iiy"
      },
      "source": [
        "# Assignment 2\n",
        "\n",
        "## By Jayesh Pattamatta - 21WU0103004"
      ]
    },
    {
      "cell_type": "markdown",
      "metadata": {
        "id": "MsKnP_fk-Iiz"
      },
      "source": [
        "**Q1. What are the two values of the Boolean data type? How do you write them?**\n",
        "\n",
        "**Answer:**\n",
        "\n",
        " `True` and `False` are the two values of the boolean data type and they are written as `True` and `False`\n",
        "\n",
        "\n",
        "---\n",
        "\n"
      ]
    },
    {
      "cell_type": "markdown",
      "metadata": {
        "id": "-UntGOp4-Iiz"
      },
      "source": [
        "**Q2. What are the three different types of Boolean operators?**\n",
        "\n",
        "**Answer:**\n",
        "\n",
        "The three types of Boolean operators are:\n",
        "\n",
        "- AND (and): Returns True if both conditions are true.\n",
        "\n",
        "Example: `True and False → False`\n",
        "\n",
        "- OR (or): Returns True if at least one condition is true.\n",
        "\n",
        "Example: `True or False → True`\n",
        "\n",
        "- NOT (not): Reverses the Boolean value.\n",
        "\n",
        "Example: `not True → False`\n",
        "\n",
        "\n",
        "---\n",
        "\n"
      ]
    },
    {
      "cell_type": "markdown",
      "metadata": {
        "id": "ZYRIgZzp-Iiz"
      },
      "source": [
        "**Q3. Make a list of each Boolean operator's truth tables (i.e. every possible combination of Boolean values for the operator and what it evaluate ).**\n",
        "\n",
        "**Answer:**\n",
        "\n",
        "> Here and out, `True` and `False` will be represented as `1` and `0`\n",
        "\n",
        "- AND truth table\n",
        "\n",
        "|Op1|Op2|Result|\n",
        "|--|--|--|\n",
        "|0|0|0\n",
        "|0|1|0\n",
        "|1|0|0\n",
        "|1|1|1\n",
        "\n",
        "- OR truth table\n",
        "\n",
        "|Op1|Op2|Result|\n",
        "|--|--|--|\n",
        "|0|0|0\n",
        "|0|1|1\n",
        "|1|0|1\n",
        "|1|1|1\n",
        "\n",
        "- NOT truth table\n",
        "\n",
        "|Op|Result|\n",
        "|--|--|\n",
        "|0|1|\n",
        "|1|0|\n",
        "\n",
        "\n",
        "---\n",
        "\n"
      ]
    },
    {
      "cell_type": "markdown",
      "metadata": {
        "id": "AKkG7ipm-Ii0"
      },
      "source": [
        "**Q4. What are the values of the following expressions?**\n",
        "\n",
        "`(5 > 4) and (3 == 5) `\n",
        "\n",
        "`not (5 > 4) `\n",
        "\n",
        "`(5 > 4) or (3 == 5) `\n",
        "\n",
        "`not ((5 > 4) or (3 == 5))`\n",
        "\n",
        "`(True and True) and (True == False)`\n",
        "\n",
        "`(not False) or (not True)`\n",
        "\n",
        "**Answer:**\n",
        "\n",
        "- False\n",
        "- False\n",
        "- True\n",
        "- False\n",
        "- False\n",
        "- True\n",
        "\n",
        "\n",
        "---\n",
        "\n"
      ]
    },
    {
      "cell_type": "markdown",
      "metadata": {
        "id": "SwWEH5mi-Ii0"
      },
      "source": [
        "**Q5. What are the six comparison operators?**\n",
        "\n",
        "**Answer:**\n",
        "\n",
        "- <\n",
        "- \\>\n",
        "- ==\n",
        "- !=\n",
        "- <=\n",
        "- \\>=\n",
        "\n",
        "\n",
        "---\n",
        "\n"
      ]
    },
    {
      "cell_type": "markdown",
      "metadata": {
        "id": "Bt50M1qH-Ii0"
      },
      "source": [
        "**Q6. How do you tell the difference between the equal to and assignment operators? Describe a condition and when you would use one.**\n",
        "\n",
        "**Ans.**\n",
        "\n",
        "- Equal operator in comparison is generally paired up with `!` or `=` beside it unlike assignment operators.  \n",
        "- An assignment operator can be used whenever we want to store a temporary value while swapping:  \n",
        "```\n",
        "temp = val1\n",
        "val1 = val2\n",
        "val2 = temp\n",
        "```\n",
        "\n",
        "\n",
        "---\n",
        "\n"
      ]
    },
    {
      "cell_type": "markdown",
      "metadata": {
        "id": "MTrkV1KN-Ii0"
      },
      "source": [
        "**Q7. Identify the three blocks in this code:**\n",
        "\n",
        "```\n",
        "spam = 0  \n",
        "if spam == 10:  \n",
        "  print('eggs')  \n",
        "elif spam > 5:  \n",
        "  print('bacon')  \n",
        "else:  \n",
        "  print('ham')  \n",
        "  print('spam')  \n",
        "  print('spam')\n",
        "```\n",
        "\n",
        "**Ans.**\n",
        "- The first if block\n",
        "- The if-else (elif) block right after it.\n",
        "- else block if no conditions are satisfied.\n",
        "- `spam = 0` at the top.\n",
        "\n",
        "\n",
        "---\n",
        "\n"
      ]
    },
    {
      "cell_type": "markdown",
      "metadata": {
        "id": "w4xsqP21-Ii0"
      },
      "source": [
        "**Q8. Write code that prints Hello if 1 is stored in spam, prints Howdy if 2 is stored in spam, and prints Greetings! if anything else is stored in spam.**"
      ]
    },
    {
      "cell_type": "code",
      "execution_count": 1,
      "metadata": {
        "colab": {
          "base_uri": "https://localhost:8080/"
        },
        "id": "1WiEBO_N-Ii0",
        "outputId": "78c2f9b6-f6bd-4837-cf92-5e2f405fb4f6"
      },
      "outputs": [
        {
          "output_type": "stream",
          "name": "stdout",
          "text": [
            "Howdy\n"
          ]
        }
      ],
      "source": [
        "spam = 2 # demo value\n",
        "if spam == 1:\n",
        "    print(\"Hello\")\n",
        "elif spam == 2:\n",
        "    print(\"Howdy\")\n",
        "else:\n",
        "    print(\"Greetings!\")"
      ]
    },
    {
      "cell_type": "markdown",
      "metadata": {
        "id": "5Ir2Aysz-Ii1"
      },
      "source": [
        "**Q9. If your programme is stuck in an endless loop, what keys you’ll press**  \n",
        "**Ans.**\n",
        "\n",
        "Two key combinations can be used:\n",
        "- Ctrl + C\n",
        "- Ctrl + Z\n",
        "\n",
        "\n",
        "---\n",
        "\n"
      ]
    },
    {
      "cell_type": "markdown",
      "metadata": {
        "id": "G4aIo67W-Ii1"
      },
      "source": [
        "**Q10. How can you tell the difference between break and continue?**  \n",
        "\n",
        "**Ans.**\n",
        "\n",
        "- `break` permanently exits out of the loop.\n",
        "-  `continue` immediately moves over to the next iteration of the current loop\n",
        "\n",
        "\n",
        "---\n",
        "\n"
      ]
    },
    {
      "cell_type": "markdown",
      "metadata": {
        "id": "cRJV8_Pr-Ii1"
      },
      "source": [
        "**Q11. In a for loop, what is the difference between range(10), range(0, 10), and range(0, 10, 1)?**\n",
        "\n",
        "\n",
        "**Ans.**\n",
        "\n",
        "- `range(0,10)` creates a list with starting point 0 to 10 (exclusive).\n",
        "- `range(10)` is the same but assumes starting point as 0.\n",
        "- `range(0,10,1)` is also the same but defines that the output should be in steps/increments of 1\n",
        "\n",
        "\n",
        "---\n",
        "\n"
      ]
    },
    {
      "cell_type": "markdown",
      "metadata": {
        "id": "mNFlbNIu-Ii1"
      },
      "source": [
        "**Q12. Write a short program that prints the numbers 1 to 10 using a for loop. Then write an equivalent program that prints the numbers 1 to 10 using a while loop.**  \n",
        "\n",
        "**Ans.**"
      ]
    },
    {
      "cell_type": "code",
      "execution_count": 2,
      "metadata": {
        "colab": {
          "base_uri": "https://localhost:8080/"
        },
        "id": "CzNRRWCO-Ii2",
        "outputId": "2408e151-517b-4fed-ebac-ec5c768c2f8c"
      },
      "outputs": [
        {
          "output_type": "stream",
          "name": "stdout",
          "text": [
            "1\n",
            "2\n",
            "3\n",
            "4\n",
            "5\n",
            "6\n",
            "7\n",
            "8\n",
            "9\n",
            "10\n"
          ]
        }
      ],
      "source": [
        "for i in range(1,11):\n",
        "    print(i)"
      ]
    },
    {
      "cell_type": "code",
      "execution_count": 3,
      "metadata": {
        "colab": {
          "base_uri": "https://localhost:8080/"
        },
        "id": "Iy7T-GPX-Ii2",
        "outputId": "b687a8d7-4813-4307-b3e1-3fd0813b0e3f"
      },
      "outputs": [
        {
          "output_type": "stream",
          "name": "stdout",
          "text": [
            "1\n",
            "2\n",
            "3\n",
            "4\n",
            "5\n",
            "6\n",
            "7\n",
            "8\n",
            "9\n",
            "10\n"
          ]
        }
      ],
      "source": [
        "i = 1\n",
        "while i <= 10:\n",
        "    print(i)\n",
        "    i += 1"
      ]
    },
    {
      "cell_type": "markdown",
      "metadata": {
        "id": "j3DDFZeI-Ii2"
      },
      "source": [
        "**Q13. If you had a function named bacon() inside a module named spam, how would you call it after importing spam?**\n",
        "\n",
        "**Ans.** `spam.bacon()`"
      ]
    },
    {
      "cell_type": "code",
      "source": [],
      "metadata": {
        "id": "K7Gmhi8TBlYa"
      },
      "execution_count": null,
      "outputs": []
    }
  ],
  "metadata": {
    "kernelspec": {
      "display_name": "computer-vision",
      "language": "python",
      "name": "python3"
    },
    "language_info": {
      "codemirror_mode": {
        "name": "ipython",
        "version": 3
      },
      "file_extension": ".py",
      "mimetype": "text/x-python",
      "name": "python",
      "nbconvert_exporter": "python",
      "pygments_lexer": "ipython3",
      "version": "3.7.12"
    },
    "colab": {
      "provenance": []
    }
  },
  "nbformat": 4,
  "nbformat_minor": 0
}