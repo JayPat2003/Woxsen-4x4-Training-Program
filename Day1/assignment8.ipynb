{
  "cells": [
    {
      "cell_type": "markdown",
      "metadata": {
        "id": "E2sDzQ0R5Ix2"
      },
      "source": [
        "# Assignment 8\n",
        "\n",
        "### Jayesh Pattamatta - 21WU0103004"
      ]
    },
    {
      "cell_type": "markdown",
      "metadata": {
        "id": "Kth_U_8x5Ix3"
      },
      "source": [
        "**1. In Python, what is the difference between a built-in function and a user-defined function? Provide an example of each.**\n",
        "\n",
        "**Ans.** A built-in function is a function that is already included in the python standard library. A user-defined function is, as the name implies, defined by the user and is not a part of the standard libary.\n",
        "\n",
        "Examples of both:\n",
        "\n",
        "\n",
        "```\n",
        "# Built-in function\n",
        "\n",
        "len([1,6,991,53])\n",
        "\n",
        "# User-defined function\n",
        "def hi():\n",
        "    print(\"Hi there\")\n",
        "```\n",
        "\n"
      ]
    },
    {
      "cell_type": "markdown",
      "metadata": {
        "id": "UeoK5CA_5Ix4"
      },
      "source": [
        "**2. How can you pass arguments to a function in Python? Explain the difference between positional arguments and keyword arguments**  \n",
        "\n",
        "**Ans.** Arguments can be passed to a function by adding them in the brackets mentioned during the function call. The difference b/w above:\n",
        "- Positional arguments: the parameter the argument is referring is determined by the position of the same.\n",
        "- Keyword arguments: the parameter the argument is referring is determined by using this format: `<name_of_parameter> = <value_to_pass>`. The position does not matter here.\n",
        "\n",
        "\n",
        "---\n",
        "\n"
      ]
    },
    {
      "cell_type": "markdown",
      "metadata": {
        "id": "ybRkoz-q5Ix4"
      },
      "source": [
        "**3. What is the purpose of the return statement in a function? Can a function have multiple return statements? Explain with an example.**\n",
        "\n",
        "**Ans.** A `return` statement is used to return a resultant value to the function's caller. A function can strictly have one return statement only.  \n",
        "Example:\n",
        "\n",
        "\n",
        "```\n",
        "def sum(a,b):\n",
        "    return a + b\n",
        "```\n",
        "\n"
      ]
    },
    {
      "cell_type": "markdown",
      "metadata": {
        "id": "bGsotim35Ix5"
      },
      "source": [
        "**4. What are lambda functions in Python? How are they different from regular functions? Provide an example where a lambda function can be useful.**\n",
        "\n",
        "**Ans.** A lambda function is an anonymous function that is defined \"on the go\". They are different from regular functions as they you cannot attach function description and comments to lambdas.\n",
        "\n",
        "Example:"
      ]
    },
    {
      "cell_type": "code",
      "execution_count": 2,
      "metadata": {
        "colab": {
          "base_uri": "https://localhost:8080/"
        },
        "id": "ERA9rtef5Ix5",
        "outputId": "5357e64b-09a1-4dc7-da24-d40a6de72c68"
      },
      "outputs": [
        {
          "output_type": "stream",
          "name": "stdout",
          "text": [
            "6\n"
          ]
        }
      ],
      "source": [
        "_max = lambda a, b : a if(a > b) else b\n",
        "print(_max(4,6))"
      ]
    },
    {
      "cell_type": "markdown",
      "metadata": {
        "id": "WNDaCJnr5Ix5"
      },
      "source": [
        "**5. How does the concept of \"scope\" apply to functions in Python? Explain the difference between local scope and global scope.**\n",
        "\n",
        "**Ans.** Scope can be global or local. variables defined outside a function tend to have a global scope while the ones defined within a function have a local scope. A variable with global scope can be accessed accross the entire file while local variables can be accessed only within that function\n",
        "\n",
        "---\n",
        "\n",
        "\n"
      ]
    },
    {
      "cell_type": "markdown",
      "metadata": {
        "id": "fSovyJjS5Ix5"
      },
      "source": [
        "**6. How can you use the \"return\" statement in a Python function to return multiple values?**"
      ]
    },
    {
      "cell_type": "code",
      "execution_count": 3,
      "metadata": {
        "id": "y87dXwcN5Ix6"
      },
      "outputs": [],
      "source": [
        "# You can use \",\" to seperate multiple values while returning\n",
        "def i_return_multiple_numbers():\n",
        "    return 5,2,1,62,7"
      ]
    },
    {
      "cell_type": "markdown",
      "metadata": {
        "id": "ub_Y__Tm5Ix6"
      },
      "source": [
        "**7. What is the difference between the \"pass by value\" and \"pass by reference\" concepts when it comes to function arguments in Python.**\n",
        "\n",
        "**Ans.**\n",
        "- Passing by value is copying the value of the argument before passing to function. Here, changes to that value inside said function don't reflect on the original value.  \n",
        "- Passing by reference is passing the memory location of the argument to the function. Here, changes to that value inside the fucntion do reflect on the original value.  \n",
        "\n",
        "- Passing by value is generally seen when passing immutable values (such as strings) and pass by reference is the default behaviour for when passing mutable values (such as objects)\n",
        "\n",
        "\n",
        "---\n",
        "\n"
      ]
    },
    {
      "cell_type": "markdown",
      "metadata": {
        "id": "p5gVCSe45Ix6"
      },
      "source": [
        "**8. Create a function that can intake integer or decimal value and do following operations:**  \n",
        "a. Logarithmic function (log x)  \n",
        "b. Exponential function (exp(x))  \n",
        "c. Power function with base 2 (2x)  \n",
        "d. Square root"
      ]
    },
    {
      "cell_type": "code",
      "execution_count": 4,
      "metadata": {
        "id": "zWvFmq3z5Ix6"
      },
      "outputs": [],
      "source": [
        "from math import exp, log, sqrt\n",
        "\n",
        "\n",
        "# a\n",
        "def log_func(x):\n",
        "    return log(x)\n",
        "\n",
        "# b\n",
        "def exp_func(x):\n",
        "    return exp(x)\n",
        "\n",
        "# c\n",
        "def power_with_base_2(x):\n",
        "    return x**2\n",
        "\n",
        "# d\n",
        "def sq_root(x):\n",
        "    return sqrt(x)"
      ]
    },
    {
      "cell_type": "markdown",
      "metadata": {
        "id": "CEjKCFhg5Ix6"
      },
      "source": [
        "**9. Create a function that takes a full name as an argument and returns first name and last name.**"
      ]
    },
    {
      "cell_type": "code",
      "execution_count": 5,
      "metadata": {
        "id": "m8u7ZmEO5Ix6"
      },
      "outputs": [],
      "source": [
        "def return_seperated(name: str):\n",
        "    splitted_name =  name.split(\" \")\n",
        "    return splitted_name[0], splitted_name[1]"
      ]
    }
  ],
  "metadata": {
    "kernelspec": {
      "display_name": "computer-vision",
      "language": "python",
      "name": "python3"
    },
    "language_info": {
      "codemirror_mode": {
        "name": "ipython",
        "version": 3
      },
      "file_extension": ".py",
      "mimetype": "text/x-python",
      "name": "python",
      "nbconvert_exporter": "python",
      "pygments_lexer": "ipython3",
      "version": "3.7.12"
    },
    "colab": {
      "provenance": []
    }
  },
  "nbformat": 4,
  "nbformat_minor": 0
}