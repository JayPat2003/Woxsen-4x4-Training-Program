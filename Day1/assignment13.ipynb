{
  "cells": [
    {
      "cell_type": "markdown",
      "metadata": {
        "id": "dN6vSUh5qqX0"
      },
      "source": [
        "# Assignment 13\n",
        "\n",
        "## Jayesh Pattamatta - 21WU0103004"
      ]
    },
    {
      "cell_type": "markdown",
      "metadata": {
        "id": "IFKlJPQ4qqX2"
      },
      "source": [
        "Q1. Create two int type variables, apply addition, subtraction, division and multiplications\n",
        "and store the results in variables. Then print the data in the following format by calling the\n",
        "variables:  \n",
        "First variable is __ & second variable is __.  \n",
        "Addition: __ + __ = __  \n",
        "Subtraction: __ - __ = __  \n",
        "Multiplication: __ * __ = __  \n",
        "Division: __ / __ = __  "
      ]
    },
    {
      "cell_type": "code",
      "execution_count": null,
      "metadata": {
        "id": "ds59Ci3XqqX2",
        "outputId": "1eb01b0d-0822-4ce9-e67f-00a273fef76c"
      },
      "outputs": [
        {
          "name": "stdout",
          "output_type": "stream",
          "text": [
            "First variable is 10 & second variable is 4\n",
            "Addition: 10 + 4 = 14\n",
            "Subtraction: 10 - 4 = 6\n",
            "Multiplication: 10 * 4 = 40\n",
            "Division: 10 / 4 = 2.5\n"
          ]
        }
      ],
      "source": [
        "a = 10\n",
        "b = 4\n",
        "add = a + b\n",
        "sub = a - b\n",
        "mult = a * b\n",
        "div = a / b\n",
        "\n",
        "print(f\"First variable is {a} & second variable is {b}\")\n",
        "print(f\"Addition: {a} + {b} = {add}\")\n",
        "print(f\"Subtraction: {a} - {b} = {sub}\")\n",
        "print(f\"Multiplication: {a} * {b} = {mult}\")\n",
        "print(f\"Division: {a} / {b} = {div}\")"
      ]
    },
    {
      "cell_type": "markdown",
      "metadata": {
        "id": "C0CaSse0qqX3"
      },
      "source": [
        "Q2. What is the difference between the following operators:  \n",
        "(i) ‘/’ & ‘//’  \n",
        "(ii) ‘**’ & ‘^’  \n",
        "\n",
        "**Ans.**\n",
        "1. '/' performs float division and outputs a float value. '//' divides without remainder and outputs an integer value\n",
        "2. '**' is used for exponentiation while '^' is a bitwise operator for performing XOR operations"
      ]
    },
    {
      "cell_type": "markdown",
      "metadata": {
        "id": "gsVpFmtwqqX4"
      },
      "source": [
        "Q3. List the logical operators.  \n",
        "**Ans.**\n",
        "- Logical AND: `and`\n",
        "- Logical OR: `or`\n",
        "- Logical NOT: `not`"
      ]
    },
    {
      "cell_type": "markdown",
      "metadata": {
        "id": "TPeyDrjwqqX4"
      },
      "source": [
        "Q4. Explain right shift operator and left shift operator with examples.  \n",
        "**Ans.** Both of these operators are bitwise operators that operate at a binary level.  \n",
        "Right shift shifts the bits 'x' positions to the right while left shift shifts them to the left.  \n",
        "Example:"
      ]
    },
    {
      "cell_type": "code",
      "execution_count": null,
      "metadata": {
        "id": "YYqx8sLvqqX4",
        "outputId": "966a6db6-1deb-4884-ba2a-96c757e959ad"
      },
      "outputs": [
        {
          "name": "stdout",
          "output_type": "stream",
          "text": [
            "12\n",
            "160\n"
          ]
        }
      ],
      "source": [
        "print(50 >> 2)\n",
        "print(10 << 4)"
      ]
    },
    {
      "cell_type": "markdown",
      "metadata": {
        "id": "vjLsZgg0qqX4"
      },
      "source": [
        "Q5. Create a list containing int type data of length 15. Then write a code to check if 10 is\n",
        "present in the list or not"
      ]
    },
    {
      "cell_type": "code",
      "execution_count": null,
      "metadata": {
        "id": "KqGWdCadqqX4",
        "outputId": "2f8fa547-41cd-400d-95e5-f9f0d84fff6e"
      },
      "outputs": [
        {
          "name": "stdout",
          "output_type": "stream",
          "text": [
            "List:  [2, 3, 4, 5, 6, 7, 8, 9, 10, 11, 12, 13, 14, 15, 16]\n",
            "length of list:  15\n",
            "10 is Present\n"
          ]
        }
      ],
      "source": [
        "x = [x for x in range(2,17)]\n",
        "print(\"List: \", x)\n",
        "print(\"length of list: \", len(x))\n",
        "\n",
        "if 10 in x:\n",
        "    print(\"10 is Present\")\n",
        "else: print(\"10 is not present\")"
      ]
    }
  ],
  "metadata": {
    "kernelspec": {
      "display_name": "computer-vision",
      "language": "python",
      "name": "python3"
    },
    "language_info": {
      "codemirror_mode": {
        "name": "ipython",
        "version": 3
      },
      "file_extension": ".py",
      "mimetype": "text/x-python",
      "name": "python",
      "nbconvert_exporter": "python",
      "pygments_lexer": "ipython3",
      "version": "3.7.12"
    },
    "colab": {
      "provenance": []
    }
  },
  "nbformat": 4,
  "nbformat_minor": 0
}