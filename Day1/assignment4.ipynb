{
  "cells": [
    {
      "cell_type": "markdown",
      "metadata": {
        "id": "2aO_uvq2GUcl"
      },
      "source": [
        "#Assignment 4\n",
        "\n",
        "## Jayesh Pattamatta - 21WU0103004"
      ]
    },
    {
      "cell_type": "markdown",
      "metadata": {
        "id": "3OsEqSnXGUcn"
      },
      "source": [
        "**Q1. What exactly is []?**\n",
        "\n",
        "**Ans.** An empty list\n",
        "\n",
        "\n",
        "---\n",
        "\n"
      ]
    },
    {
      "cell_type": "markdown",
      "metadata": {
        "id": "s5rV0RFLGUcn"
      },
      "source": [
        "**Q2. In a list of values stored in a variable called spam, how would you assign the value 'hello' as the third value? (Assume [2, 4, 6, 8, 10] are in spam.)**\n",
        "\n",
        "**Ans.** `spam[2]` = \"hello\"\n",
        "\n",
        "\n",
        "---\n",
        "\n"
      ]
    },
    {
      "cell_type": "markdown",
      "metadata": {
        "id": "M0toFirvGUcn"
      },
      "source": [
        "Let's pretend the spam includes the list ['a', 'b', 'c', 'd'] for the next three queries.  \n",
        "\n",
        "**Q3. What is the value of spam[int(int('3' * 2) / 11)]?**\n",
        "\n",
        "**Ans.** Equivalent to `spam[3]` which is 'd'\n",
        "\n",
        "**Q4. What is the value of spam[-1]?**\n",
        "\n",
        "**Ans.** 'd'  \n",
        "\n",
        "**Q5. What is the value of spam[:2]?**\n",
        "\n",
        "**Ans.** `['a','b']`\n",
        "\n",
        "\n",
        "---\n",
        "\n"
      ]
    },
    {
      "cell_type": "markdown",
      "metadata": {
        "id": "DPzl3d8aGUco"
      },
      "source": [
        "Let's pretend bacon has the list [3.14, 'cat,' 11, 'cat,' True] for the next three questions.\n",
        "\n",
        "**Q6. What is the value of bacon.index('cat')?**  \n",
        "\n",
        "**Ans.** 1  \n",
        "\n",
        "**Q7. How does bacon.append(99) change the look of the list value in bacon?**\n",
        "\n",
        "**Ans.** Adds an element to the end of the list. Finally, bacon will look like `[3.14, 'cat,' 11, 'cat,' True, 99]`  \n",
        "\n",
        "**Q8. How does bacon.remove('cat') change the look of the list in bacon?**\n",
        "\n",
        "**Ans.** Removes the first instance of 'cat'. `[3.14, 11, 'cat,' True]`\n",
        "\n",
        "\n",
        "---\n",
        "\n"
      ]
    },
    {
      "cell_type": "markdown",
      "metadata": {
        "id": "piWQ1xtWGUco"
      },
      "source": [
        "**Q9. What are the list concatenation and list replication operators?**\n",
        "\n",
        "**Ans.** For list concatenation: `+`. For list replication: `*`.\n",
        "\n",
        "\n",
        "---\n",
        "\n"
      ]
    },
    {
      "cell_type": "markdown",
      "metadata": {
        "id": "DC3arrsZGUco"
      },
      "source": [
        "**Q10. What is difference between the list methods `append()` and `insert()`?**  \n",
        "\n",
        "**Ans.** `append()` adds the provided element to the end of the list. `insert()` also takes in a position argument to insert given element wherever we want in the list\n",
        "\n",
        "\n",
        "---\n",
        "\n"
      ]
    },
    {
      "cell_type": "markdown",
      "metadata": {
        "id": "2ExIc-VdGUco"
      },
      "source": [
        "**Q11. What are the two methods for removing items from a list?**\n",
        "\n",
        "**Ans.**\n",
        "- Using `pop()` and optionally specifiying index position\n",
        "- Using `remove()` and providing value of element to remove\n",
        "\n",
        "\n",
        "---\n",
        "\n"
      ]
    },
    {
      "cell_type": "markdown",
      "metadata": {
        "id": "bqBBWXZ2GUco"
      },
      "source": [
        "**Q12. Describe how list values and string values are identical.**\n",
        "\n",
        "**Ans.** Lists and strings are both, sequences of elements.\n",
        "\n",
        "\n",
        "---\n",
        "\n"
      ]
    },
    {
      "cell_type": "markdown",
      "metadata": {
        "id": "Pvh44y1mGUcp"
      },
      "source": [
        "**Q13. What's the difference between tuples and lists?**  \n",
        "\n",
        "**Ans.** Tuples are immutable while lists are mutable\n",
        "\n",
        "\n",
        "---\n",
        "\n"
      ]
    },
    {
      "cell_type": "markdown",
      "metadata": {
        "id": "650l77dwGUcp"
      },
      "source": [
        "**Q14. How do you type a tuple value that only contains the integer 42?**\n",
        "\n",
        "**Ans.** `val = (42,)`\n",
        "\n",
        "\n",
        "---\n",
        "\n"
      ]
    },
    {
      "cell_type": "markdown",
      "metadata": {
        "id": "dTYauk-GGUcp"
      },
      "source": [
        "**Q15. How do you get a list value's tuple form? How do you get a tuple value's list form?**\n",
        "\n",
        "**Ans.**\n",
        "- For tuple to list: `list((23,64,12,5))`\n",
        "- For list to tuple: `tuple([23,'gfd',23])`\n",
        "\n",
        "\n",
        "---\n",
        "\n"
      ]
    },
    {
      "cell_type": "markdown",
      "metadata": {
        "id": "I0lekw2uGUcp"
      },
      "source": [
        "**Q16. Variables that \"contain\" list values are not necessarily lists themselves. Instead, what do they contain?**\n",
        "\n",
        "**Ans.** They contain references to list values\n",
        "\n",
        "\n",
        "---\n",
        "\n"
      ]
    },
    {
      "cell_type": "markdown",
      "metadata": {
        "id": "FOKzoKuvGUcp"
      },
      "source": [
        "**Q17. How do you distinguish between `copy.copy()` and `copy.deepcopy()`?**\n",
        "\n",
        "**Ans.** The `copy.copy()` function will do a shallow copy of a list. The `copy.deepcopy()` function will do a deep copy of a list. only copy.`deepcopy()` will duplicate any lists inside the list"
      ]
    }
  ],
  "metadata": {
    "language_info": {
      "name": "python"
    },
    "colab": {
      "provenance": []
    }
  },
  "nbformat": 4,
  "nbformat_minor": 0
}