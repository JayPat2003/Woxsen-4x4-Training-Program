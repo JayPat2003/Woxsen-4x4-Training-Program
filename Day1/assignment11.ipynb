{
  "cells": [
    {
      "cell_type": "markdown",
      "metadata": {
        "id": "Wjse4Nm9-Ife"
      },
      "source": [
        "# Assignment 11\n",
        "\n",
        "### Jayesh Pattamatta - 21WU0103004"
      ]
    },
    {
      "cell_type": "markdown",
      "metadata": {
        "id": "b4bPzQ9X-Iff"
      },
      "source": [
        "**1. What is the role of the 'else' block in a try-except statement? Provide an example scenario where it would be useful**\n",
        "\n",
        "**Ans.** The else block in a try-except statement is executed only if the try block does not raise an exception. It's useful for code that should only run if no exceptions were raised. Example:"
      ]
    },
    {
      "cell_type": "code",
      "execution_count": 1,
      "metadata": {
        "colab": {
          "base_uri": "https://localhost:8080/"
        },
        "id": "-xRlxwO7-Ifg",
        "outputId": "08b1976b-1585-4211-eda5-ba7acc7ea959"
      },
      "outputs": [
        {
          "output_type": "stream",
          "name": "stdout",
          "text": [
            "The result is 5.0\n"
          ]
        }
      ],
      "source": [
        "try:\n",
        "    result = 10 / 2\n",
        "except ZeroDivisionError:\n",
        "    print(\"Cannot divide by zero.\")\n",
        "else:\n",
        "    print(f\"The result is {result}\")"
      ]
    },
    {
      "cell_type": "markdown",
      "metadata": {
        "id": "jYFkffdg-Ifg"
      },
      "source": [
        "**2. Can a try-except block be nested inside another try-except block? Explain with an example.**\n",
        "\n",
        "**Ans.** Yes, a try-except block can be nested inside another try-except block. Example:"
      ]
    },
    {
      "cell_type": "code",
      "execution_count": 2,
      "metadata": {
        "colab": {
          "base_uri": "https://localhost:8080/"
        },
        "id": "DrFbd31J-Ifh",
        "outputId": "1e160a9c-492a-49d4-8021-73b5bda241d9"
      },
      "outputs": [
        {
          "output_type": "stream",
          "name": "stdout",
          "text": [
            "Inner except: Cannot divide by zero.\n",
            "Outer except: Exception caught again.\n"
          ]
        }
      ],
      "source": [
        "try:\n",
        "    try:\n",
        "        result = 10 / 0\n",
        "    except ZeroDivisionError:\n",
        "        print(\"Inner except: Cannot divide by zero.\")\n",
        "        raise\n",
        "except ZeroDivisionError:\n",
        "    print(\"Outer except: Exception caught again.\")\n"
      ]
    },
    {
      "cell_type": "markdown",
      "metadata": {
        "id": "ILddoJ9p-Ifh"
      },
      "source": [
        "**3. How can you create a custom exception class in Python? Provide an example that demonstrates its usage**\n",
        "\n",
        "**Ans.** You can create a custom exception class by inheriting from the built-in `Exception` class. Example:"
      ]
    },
    {
      "cell_type": "code",
      "execution_count": 3,
      "metadata": {
        "colab": {
          "base_uri": "https://localhost:8080/"
        },
        "id": "t_Gazlnt-Ifh",
        "outputId": "6c5a9770-d424-4668-b1db-cfea0064c864"
      },
      "outputs": [
        {
          "output_type": "stream",
          "name": "stdout",
          "text": [
            "Caught a custom exception: Value cannot be negative!\n"
          ]
        }
      ],
      "source": [
        "class CustomErr(Exception):\n",
        "    pass\n",
        "\n",
        "def check_value(value):\n",
        "    if value < 0:\n",
        "        raise CustomErr(\"Value cannot be negative!\")\n",
        "\n",
        "try:\n",
        "    check_value(-1)\n",
        "except CustomErr as e:\n",
        "    print(f\"Caught a custom exception: {e}\")\n"
      ]
    },
    {
      "cell_type": "markdown",
      "metadata": {
        "id": "_eYzYAos-Ifi"
      },
      "source": [
        "**4. What are some common exceptions that are built-in to Python?**\n",
        "\n",
        "**Ans.**\n",
        "- `AttributeError`\n",
        "- `EOFError`\n",
        "- `ImportError`\n",
        "- `IndexError`\n",
        "- `KeyError`\n",
        "\n",
        "\n",
        "---\n",
        "\n"
      ]
    },
    {
      "cell_type": "markdown",
      "metadata": {
        "id": "_7Nyj6E--Ifi"
      },
      "source": [
        "**5. What is logging in Python, and why is it important in software development?**\n",
        "\n",
        "**Ans.** Logging is a way to track events that happen when software runs. It's crucial for debugging and monitoring applications, especially in production environments.\n",
        "\n",
        "\n",
        "---\n",
        "\n"
      ]
    },
    {
      "cell_type": "markdown",
      "metadata": {
        "id": "r0LefEDE-Ifi"
      },
      "source": [
        "**6. Explain the purpose of log levels in Python logging and provide examples of when each log level would be appropriate.**  \n",
        "\n",
        "**Ans.**\n",
        "- `DEBUG`: Detailed information, typically for diagnosing problems.\n",
        "- `INFO`: General events or information.\n",
        "- `WARNING`: Potentially problematic situations.\n",
        "- `ERROR`: Errors that prevent part of the application from functioning.\n",
        "- `CRITICAL`: Severe errors that may stop the application.\n",
        "\n",
        "\n",
        "---\n",
        "\n"
      ]
    },
    {
      "cell_type": "markdown",
      "metadata": {
        "id": "moahHxkK-Ifi"
      },
      "source": [
        "**7. What are log formatters in Python logging, and how can you customise the log message format using formatters?**\n",
        "\n",
        "**Ans.** Log formatters define the layout of log messages. An example how to customize a log formatter is provided below:"
      ]
    },
    {
      "cell_type": "code",
      "execution_count": 4,
      "metadata": {
        "colab": {
          "base_uri": "https://localhost:8080/"
        },
        "id": "XJuSd5uz-Ifi",
        "outputId": "b0fa4eb4-5aa1-4f31-e516-d83075e51eaa"
      },
      "outputs": [
        {
          "output_type": "stream",
          "name": "stderr",
          "text": [
            "ERROR:root:This is an error message.\n",
            "2024-12-16 15:01:53,605 - ERROR - This is an error message.\n"
          ]
        }
      ],
      "source": [
        "import logging\n",
        "\n",
        "formatter = logging.Formatter('%(asctime)s - %(levelname)s - %(message)s')\n",
        "handler = logging.StreamHandler()\n",
        "handler.setFormatter(formatter)\n",
        "logger = logging.getLogger()\n",
        "logger.addHandler(handler)\n",
        "\n",
        "logger.error(\"This is an error message.\")"
      ]
    },
    {
      "cell_type": "markdown",
      "metadata": {
        "id": "8DpZwZFx-Ifj"
      },
      "source": [
        "**8. How can you set up logging to capture log messages from multiple modules or classes in a Python application?**"
      ]
    },
    {
      "cell_type": "code",
      "execution_count": 6,
      "metadata": {
        "colab": {
          "base_uri": "https://localhost:8080/"
        },
        "id": "bl31odbE-Ifj",
        "outputId": "c1544ca2-fb83-4709-9b38-2e0f627dbb77"
      },
      "outputs": [
        {
          "output_type": "stream",
          "name": "stdout",
          "text": [
            "Writing module1.py\n"
          ]
        }
      ],
      "source": [
        "%%writefile module1.py\n",
        "import logging\n",
        "\n",
        "logger = logging.getLogger(__name__)\n",
        "\n",
        "def function1():\n",
        "    logger.info(\"This is a log message from module1\")\n",
        "\n",
        "\n",
        "%%writefile module2.py\n",
        "import logging\n",
        "\n",
        "logger = logging.getLogger(__name__)\n",
        "\n",
        "def function2():\n",
        "    logger.info(\"This is a log message from module2\")\n",
        "\n",
        "\n",
        "import logging\n",
        "import module1\n",
        "import module2\n",
        "\n",
        "logging.basicConfig(level=logging.INFO, filename='app.log', filemode='a',\n",
        "                    format='%(asctime)s - %(name)s - %(levelname)s - %(message)s')\n",
        "\n",
        "module1.function1()\n",
        "module2.function2()"
      ]
    },
    {
      "cell_type": "markdown",
      "metadata": {
        "id": "4PrT1vPk-Ifj"
      },
      "source": [
        "**9. What is the difference between the logging and print statements in Python? When should you use logging over print statements in a real-world application?**  \n",
        "\n",
        "**Ans.**\n",
        "- Logging: Provides different levels of severity, can be directed to various outputs (files, console), and is suitable for production.\n",
        "- Print Statements: Simple debugging tool, outputs to console only, not suitable for production."
      ]
    },
    {
      "cell_type": "markdown",
      "metadata": {
        "id": "uW07ebWL-Ifj"
      },
      "source": [
        "**10.  Write a Python program that logs a message to a file named \"app.log\" with the following requirements:**\n",
        "\n",
        "- The log message should be \"Hello, World!\"\n",
        "- The log level should be set to \"INFO.\"\n",
        "- The log file should append new log entries without overwriting previous ones."
      ]
    },
    {
      "cell_type": "code",
      "execution_count": 7,
      "metadata": {
        "id": "t99tv9Y7-Ifj"
      },
      "outputs": [],
      "source": [
        "import logging\n",
        "\n",
        "logging.basicConfig(level=logging.INFO, filename='app.log', filemode='a',\n",
        "                    format='%(asctime)s - %(levelname)s - %(message)s')\n",
        "\n",
        "logging.info(\"Hello, World!\")"
      ]
    },
    {
      "cell_type": "markdown",
      "metadata": {
        "id": "nw_lQfZJ-Ifj"
      },
      "source": [
        "**11. Create a Python program that logs an error message to the console and a file named \"errors.log\" if an exception occurs during the program's execution. The error message should include the exception type and a timestamp.**"
      ]
    },
    {
      "cell_type": "code",
      "execution_count": 8,
      "metadata": {
        "colab": {
          "base_uri": "https://localhost:8080/"
        },
        "id": "LJsOD-Jf-Ifj",
        "outputId": "3f9241ff-f2be-463c-f1ac-b5744851340d"
      },
      "outputs": [
        {
          "output_type": "stream",
          "name": "stderr",
          "text": [
            "ERROR:root:2024-12-16 16:49:39.527087 - Exception type: ZeroDivisionError - division by zero\n",
            "2024-12-16 16:49:39,527 - ERROR - 2024-12-16 16:49:39.527087 - Exception type: ZeroDivisionError - division by zero\n"
          ]
        },
        {
          "output_type": "stream",
          "name": "stdout",
          "text": [
            "2024-12-16 16:49:39.534138 - Exception type: ZeroDivisionError - division by zero\n"
          ]
        }
      ],
      "source": [
        "import logging\n",
        "from datetime import datetime\n",
        "\n",
        "logging.basicConfig(level=logging.ERROR, filename='errors.log', filemode='a',\n",
        "                    format='%(asctime)s - %(levelname)s - %(message)s')\n",
        "\n",
        "try:\n",
        "    result = 10 / 0\n",
        "except Exception as e:\n",
        "    logging.error(f\"{datetime.now()} - Exception type: {type(e).__name__} - {e}\")\n",
        "\n",
        "try:\n",
        "    result = 10 / 0\n",
        "except Exception as e:\n",
        "    print(f\"{datetime.now()} - Exception type: {type(e).__name__} - {e}\")\n"
      ]
    }
  ],
  "metadata": {
    "kernelspec": {
      "display_name": "computer-vision",
      "language": "python",
      "name": "python3"
    },
    "language_info": {
      "codemirror_mode": {
        "name": "ipython",
        "version": 3
      },
      "file_extension": ".py",
      "mimetype": "text/x-python",
      "name": "python",
      "nbconvert_exporter": "python",
      "pygments_lexer": "ipython3",
      "version": "3.7.12"
    },
    "colab": {
      "provenance": []
    }
  },
  "nbformat": 4,
  "nbformat_minor": 0
}