{
  "cells": [
    {
      "cell_type": "markdown",
      "metadata": {
        "id": "MPbXIf7z6iae"
      },
      "source": [
        "# Assignment 9\n",
        "\n",
        "## Jayesh Pattamatta - 21WU0103004"
      ]
    },
    {
      "cell_type": "markdown",
      "metadata": {
        "id": "sWLFM4jE6iaf"
      },
      "source": [
        "**1. What is a lambda function in Python, and how does it differ from a regular function?**\n",
        "\n",
        "**Ans.** A lambda function is an anonymous function that is defined \"on the go\". They are different from regular functions as you cannot attach function description and comments to lambdas.\n",
        "\n",
        "\n",
        "---\n",
        "\n"
      ]
    },
    {
      "cell_type": "markdown",
      "metadata": {
        "id": "X1kHP7fH6iag"
      },
      "source": [
        "**2. Can a lambda function in Python have multiple arguments? If yes, how can you define and use them?**\n",
        "\n",
        "**Ans.** Yes, they can have multiple arguments. They can defined using a ',' while defining the arguments for the lambda. To use them, simply seperate the arguments using ',' inside the brackets when calling the lambda.\n",
        "\n",
        "\n",
        "---\n",
        "\n"
      ]
    },
    {
      "cell_type": "markdown",
      "metadata": {
        "id": "6b3_m17p6iag"
      },
      "source": [
        "**3. How are lambda functions typically used in Python? Provide an example use case.**  \n",
        "\n",
        "**Ans.** Lambda functions are typically used for small, simple operations, or one-off tasks, where defining a full function would be unnecessary or cumbersome. Example of a lambda being used in a filter function:"
      ]
    },
    {
      "cell_type": "code",
      "execution_count": 1,
      "metadata": {
        "colab": {
          "base_uri": "https://localhost:8080/"
        },
        "id": "-boA65Sb6iag",
        "outputId": "653e1d2b-0f4e-43e1-a246-b7025225c8dd"
      },
      "outputs": [
        {
          "output_type": "execute_result",
          "data": {
            "text/plain": [
              "<filter at 0x7f98f190dc00>"
            ]
          },
          "metadata": {},
          "execution_count": 1
        }
      ],
      "source": [
        "sequences = [1,2,7,9,12]\n",
        "filter(lambda x: x > 6, sequences)"
      ]
    },
    {
      "cell_type": "markdown",
      "metadata": {
        "id": "b-SvXHxn6iah"
      },
      "source": [
        "**4. What are the advantages and limitations of lambda functions compared to regular functions in Python**  \n",
        "\n",
        "**Ans**\n",
        "\n",
        "Limitations:\n",
        "- Can only have a single expression within them.\n",
        "- Don't have a name and can't have a docstring.\n",
        "- Have a very different syntax from the usual def syntax.\n",
        "\n",
        "Advantages:\n",
        "- Can be immediately passed around (no variable needed)\n",
        "- Return their sole expression automatically."
      ]
    },
    {
      "cell_type": "markdown",
      "metadata": {
        "id": "1fU_HCF06iah"
      },
      "source": [
        "**5. Are lambda functions in Python able to access variables defined outside of their own scope? Explain with an example.**\n",
        "\n",
        "**Ans.** Lambas can catch a global value in a \"hacky\" way by assigning one of it's arguments the value of the variable. Example: `lambda x, i=i: x%i==0` where `i` is a global variable\n",
        "\n",
        "\n",
        "---\n",
        "\n"
      ]
    },
    {
      "cell_type": "markdown",
      "metadata": {
        "id": "o3y4MEjL6iai"
      },
      "source": [
        "**6. Write a lambda function to calculate the square of a given number.**\n",
        "\n",
        "**Ans.** `lambda x: x**2`\n",
        "\n",
        "\n",
        "---\n",
        "\n"
      ]
    },
    {
      "cell_type": "markdown",
      "metadata": {
        "id": "uO3iyJGw6iai"
      },
      "source": [
        "**7. Create a lambda function to find the maximum value in a list of integers.**  \n",
        "\n",
        "**Ans.** `lambda x: max(x)`\n",
        "\n",
        "\n",
        "---\n",
        "\n"
      ]
    },
    {
      "cell_type": "markdown",
      "metadata": {
        "id": "ZzzYz2v96iai"
      },
      "source": [
        "**8. Implement a lambda function to filter out all the even numbers from a list of integers.**\n",
        "\n",
        "**Ans.** `lambda x: filter(lamda a: not a%2 == 0, x)`\n",
        "\n",
        "\n",
        "---\n",
        "\n"
      ]
    },
    {
      "cell_type": "markdown",
      "metadata": {
        "id": "Mt8gsrze6iai"
      },
      "source": [
        "**9. Write a lambda function to sort a list of strings in ascending order based on the length of each string.**\n",
        "\n",
        "**Ans.** `lambda seq: sorted(seq, key=lambda s: len(s))`\n",
        "\n",
        "\n",
        "---\n",
        "\n"
      ]
    },
    {
      "cell_type": "markdown",
      "metadata": {
        "id": "LFsZ9l8j6iai"
      },
      "source": [
        "**10. Create a lambda function that takes two lists as input and returns a new list containing the common elements between the two lists**  \n",
        "\n",
        "**Ans.** `lambda list1, list2: list(filter(lambda x: x in list2, list1))`\n",
        "\n",
        "\n",
        "---\n",
        "\n"
      ]
    },
    {
      "cell_type": "markdown",
      "metadata": {
        "id": "LX3bdLGO6iaj"
      },
      "source": [
        "**11. Write a recursive function to calculate the factorial of a given positive integer**"
      ]
    },
    {
      "cell_type": "code",
      "execution_count": 2,
      "metadata": {
        "id": "7REsOlzi6iaj"
      },
      "outputs": [],
      "source": [
        "def factorial(n):\n",
        "    if n == 0 or n == 1:\n",
        "        return 1\n",
        "    else:\n",
        "        return n * factorial(n - 1)"
      ]
    },
    {
      "cell_type": "markdown",
      "metadata": {
        "id": "wH__BAbj6iaj"
      },
      "source": [
        "**12. Implement a recursive function to compute the nth Fibonacci number.**"
      ]
    },
    {
      "cell_type": "code",
      "execution_count": 3,
      "metadata": {
        "id": "jNSij3di6iaj"
      },
      "outputs": [],
      "source": [
        "def fibonacci(n):\n",
        "    if n <= 1:\n",
        "        return n\n",
        "    else:\n",
        "        return fibonacci(n - 1) + fibonacci(n - 2)\n"
      ]
    },
    {
      "cell_type": "markdown",
      "metadata": {
        "id": "4nzOp2GG6iaj"
      },
      "source": [
        "**13. Create a recursive function to find the sum of all the elements in a given list.**"
      ]
    },
    {
      "cell_type": "code",
      "execution_count": 4,
      "metadata": {
        "id": "5fxiWnzP6iaj"
      },
      "outputs": [],
      "source": [
        "def sum_of_elements(lst):\n",
        "    if not lst:\n",
        "        return 0\n",
        "    else:\n",
        "        return lst[0] + sum_of_elements(lst[1:])\n"
      ]
    },
    {
      "cell_type": "markdown",
      "metadata": {
        "id": "7EgOrLG76iaj"
      },
      "source": [
        "**14. Write a recursive function to determine whether a given string is a palindrome.**"
      ]
    },
    {
      "cell_type": "code",
      "execution_count": 5,
      "metadata": {
        "id": "vcg8iVka6iaj"
      },
      "outputs": [],
      "source": [
        "def is_palindrome(s):\n",
        "    if len(s) <= 1:\n",
        "        return True\n",
        "\n",
        "    else:\n",
        "        return s[0] == s[-1] and is_palindrome(s[1:-1])"
      ]
    },
    {
      "cell_type": "markdown",
      "metadata": {
        "id": "b_UlnWjm6iaj"
      },
      "source": [
        "**15. Implement a recursive function to find the greatest common divisor (GCD) of two positive integers.**"
      ]
    },
    {
      "cell_type": "code",
      "execution_count": 6,
      "metadata": {
        "id": "xHY-2Kq66iaj"
      },
      "outputs": [],
      "source": [
        "def gcd(a, b):\n",
        "    if b == 0:\n",
        "        return a\n",
        "    else:\n",
        "        return gcd(b, a % b)"
      ]
    }
  ],
  "metadata": {
    "kernelspec": {
      "display_name": "computer-vision",
      "language": "python",
      "name": "python3"
    },
    "language_info": {
      "codemirror_mode": {
        "name": "ipython",
        "version": 3
      },
      "file_extension": ".py",
      "mimetype": "text/x-python",
      "name": "python",
      "nbconvert_exporter": "python",
      "pygments_lexer": "ipython3",
      "version": "3.7.12"
    },
    "colab": {
      "provenance": []
    }
  },
  "nbformat": 4,
  "nbformat_minor": 0
}