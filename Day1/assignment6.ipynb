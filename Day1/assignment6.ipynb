{
  "cells": [
    {
      "cell_type": "markdown",
      "metadata": {
        "id": "YfTAq9MXM-0O"
      },
      "source": [
        "# Assignment 6\n",
        "\n",
        "## By Jayesh Pattamatta - 21WU0103004"
      ]
    },
    {
      "cell_type": "markdown",
      "metadata": {
        "id": "tcx_9rbUM-0Q"
      },
      "source": [
        "**1. What is the primary goal of Object-Oriented Programming (OOP)?**\n",
        "\n",
        "**Ans.** The OOP paradigm helps to structure a program into a simple, reusable piece of code as well as bind together the data and the functions that operate on them.\n",
        "\n",
        "\n",
        "---\n",
        "\n"
      ]
    },
    {
      "cell_type": "markdown",
      "metadata": {
        "id": "Gge6DJXWM-0Q"
      },
      "source": [
        "**2. What is an object in Python?**\n",
        "\n",
        "**Ans.** An object is an instance of class where each instance has it's own dedicated memory allocated\n",
        "\n",
        "\n",
        "---\n",
        "\n"
      ]
    },
    {
      "cell_type": "markdown",
      "metadata": {
        "id": "8bsOZDtFM-0Q"
      },
      "source": [
        "**3. What is a class in Python?**\n",
        "\n",
        "**Ans.** A code template for creating objects that are related to each other\n",
        "\n",
        "\n",
        "---\n",
        "\n"
      ]
    },
    {
      "cell_type": "markdown",
      "metadata": {
        "id": "sMGMz6WcM-0Q"
      },
      "source": [
        "**4. What are attributes and methods in a class?**\n",
        "\n",
        "**Ans.** The attributes of a class refer to the data variables in a class that carry a value.  \n",
        "A method is a function described within a class which more often than not operates on the attributes of the same class (and therefore, that particular instance)\n",
        "\n",
        "\n",
        "---\n",
        "\n"
      ]
    },
    {
      "cell_type": "markdown",
      "metadata": {
        "id": "tvzQYdB-M-0R"
      },
      "source": [
        "**5. What is the difference between class variables and instance variables in Python?**\n",
        "\n",
        "**Ans.**\n",
        "\n",
        "- *Class variable*: They are attributes of a class whose value is determined while designing the class itself and is generally unaffected by the instance that it belongs to\n",
        "- *Instance variable*: Attributes whose value is generally unique to the instance it is used in.\n",
        "\n",
        "\n",
        "---\n",
        "\n"
      ]
    },
    {
      "cell_type": "markdown",
      "metadata": {
        "id": "R4Mpnoi1M-0R"
      },
      "source": [
        "**6. What is the purpose of the self parameter in Python class methods?**\n",
        "\n",
        "**Ans.** The primary use of the self parameter is to access instance variables of the instance the method is being called on.\n",
        "\n",
        "\n",
        "---\n",
        "\n"
      ]
    },
    {
      "cell_type": "markdown",
      "metadata": {
        "id": "wTaUOnLQM-0R"
      },
      "source": [
        "**7. For a library management system, you have to design the \"Book\" class with OOP principles in mind. The “Book” class will have following attributes:**\n",
        "\n",
        "a. title: Represents the title of the book.\n",
        "\n",
        "b. author: Represents the author(s) of the book.\n",
        "\n",
        "c. isbn: Represents the ISBN (International Standard Book Number) of the book.\n",
        "\n",
        "d. publication_year: Represents the year of publication of the book.\n",
        "\n",
        "e. available_copies: Represents the number of copies available for checkout.\n",
        "\n",
        "The class will also include the following methods:\n",
        "\n",
        "a. `check_out(self)`: Decrements the available copies by one if there are copies\n",
        "available for checkout.\n",
        "\n",
        "b. `return_book(self)`: Increments the available copies by one when a book is\n",
        "returned.\n",
        "\n",
        "c. `display_book_info(self)`: Displays the information about the book, including its attributes and the number of available copies."
      ]
    },
    {
      "cell_type": "code",
      "execution_count": 2,
      "metadata": {
        "id": "1b7zhJ3vM-0R"
      },
      "outputs": [],
      "source": [
        "class Book:\n",
        "    def __init__(self, title, author, isbn, publication_year, available_copies):\n",
        "        self.title = title\n",
        "        self.author = author\n",
        "        self.isbn = isbn\n",
        "        self.publication_year = publication_year\n",
        "        self.available_copies = available_copies\n",
        "\n",
        "    def check_out(self):\n",
        "        if self.available_copies > 0:\n",
        "            self.available_copies -= 1\n",
        "\n",
        "    def return_book(self):\n",
        "        self.available_copies += 1\n",
        "\n",
        "    def display_book_info(self):\n",
        "        print(f\"Title: {self.title}\")\n",
        "        print(f\"Author: {self.author}\")\n",
        "        print(f\"ISBN: {self.isbn}\")\n",
        "        print(f\"Year published: {self.publication_year}\")\n",
        "        print(f\"Available copies: {self.available_copies}\")"
      ]
    },
    {
      "cell_type": "markdown",
      "metadata": {
        "id": "51VoLzSeM-0S"
      },
      "source": [
        "**8. For a ticket booking system, you have to design the \"Ticket\" class with OOP principles in mind. The “Ticket” class should have the following attributes:**\n",
        "\n",
        "a. ticket_id: Represents the unique identifier for the ticket.\n",
        "\n",
        "b. event_name: Represents the name of the event.\n",
        "\n",
        "c. event_date: Represents the date of the event.\n",
        "\n",
        "d. venue: Represents the venue of the event.\n",
        "\n",
        "e. seat_number: Represents the seat number associated with the ticket.\n",
        "\n",
        "f. price: Represents the price of the ticket.\n",
        "\n",
        "g. is_reserved: Represents the reservation status of the ticket.\n",
        "\n",
        "The class also includes the following methods:\n",
        "\n",
        "a. `reserve_ticket(self)`: Marks the ticket as reserved if it is not already reserved.\n",
        "\n",
        "b. `cancel_reservation(self)`: Cancels the reservation of the ticket if it is already reserved.\n",
        "\n",
        "c. `display_ticket_info(self)`: Displays the information about the ticket, including its attributes and reservation status."
      ]
    },
    {
      "cell_type": "code",
      "execution_count": 3,
      "metadata": {
        "id": "lc_grWhcM-0S"
      },
      "outputs": [],
      "source": [
        "class Ticket:\n",
        "    def __init__(self, ticket_id,event_name,event_date, venue, seat_number, price, is_resevered):\n",
        "        self.ticket_id = ticket_id,\n",
        "        self.event_name = event_name,\n",
        "        self.event_date = event_date,\n",
        "        self.venue = venue\n",
        "        self.seat_number = seat_number\n",
        "        self.price = price;\n",
        "        self.is_reserved = is_resevered\n",
        "\n",
        "    def reserve_ticket(self):\n",
        "        if not self.is_reserved:\n",
        "            self.is_reserved = True\n",
        "\n",
        "    def cancel_reservation(self):\n",
        "        if self.is_reserved:\n",
        "            self.is_reserved = False\n",
        "\n",
        "    def display_ticket_info(self):\n",
        "        print(\"Ticket ID = \", self.ticket_id)\n",
        "        print(\"Event Name = \",self.event_name)\n",
        "        print(\"Event Date = \",self.event_date)\n",
        "        print(\"Event Venue = \",self.venue)\n",
        "        print(\"Seat Number = \",self.seat_number)\n",
        "        print(\"Price (INR) = \",self.price)\n",
        "        print(\"Is already reserved? = \",self.is_reserved)"
      ]
    },
    {
      "cell_type": "markdown",
      "metadata": {
        "id": "QZZZ_DBSM-0T"
      },
      "source": [
        "**9. You are creating a shopping cart for an e-commerce website. Using OOP to model the \"ShoppingCart\" functionality the class should contain following attributes and methods:**\n",
        "\n",
        "a. items: Represents the list of items in the shopping cart.\n",
        "\n",
        "The class also includes the following methods:\n",
        "\n",
        "a. `add_item(self, item)`: Adds an item to the shopping cart by appending it to the list of items.\n",
        "\n",
        "b. `remove_item(self, item)`: Removes an item from the shopping cart if it exists in the list.\n",
        "\n",
        "c. `view_cart(self)`: Displays the items currently present in the shopping cart.\n",
        "\n",
        "d. `clear_cart(self)`: Clears all items from the shopping cart by reassigning an\n",
        "empty list to the items attribute."
      ]
    },
    {
      "cell_type": "code",
      "execution_count": 5,
      "metadata": {
        "id": "rRkubZ8XM-0T"
      },
      "outputs": [],
      "source": [
        "class ShoppingCart:\n",
        "    def __init__(self, items):\n",
        "        self.items = items\n",
        "\n",
        "    def add_item(self,item):\n",
        "        self.items.append(item)\n",
        "\n",
        "    def remove_item(self, item):\n",
        "        if not item in self.items:\n",
        "            self.items.remove(item)\n",
        "\n",
        "    def view_cart(self):\n",
        "        print(self.items)\n",
        "\n",
        "    def clear_cart(self):\n",
        "        self.items = []"
      ]
    },
    {
      "cell_type": "markdown",
      "metadata": {
        "id": "aAzlfC90M-0T"
      },
      "source": [
        "**10. Imagine a school management system. You have to design the \"Student\" class using OOP concepts. The “Student” class has the following attributes:**\n",
        "\n",
        "a. name: Represents the name of the student.\n",
        "\n",
        "b. age: Represents the age of the student.\n",
        "\n",
        "c. grade: Represents the grade or class of the student.\n",
        "\n",
        "d. student_id: Represents the unique identifier for the student.\n",
        "\n",
        "e. attendance: Represents the attendance record of the student.\n",
        "\n",
        "The class should also include the following methods:\n",
        "\n",
        "a. `update_attendance(self, date, status)`: Updates the attendance record of the\n",
        "student for a given date with the provided status (e.g., present or absent).\n",
        "\n",
        "b. `get_attendance(self)`: Returns the attendance record of the student.\n",
        "\n",
        "c. `get_average_attendance(self)`: Calculates and returns the average attendance percentage of the student based on their attendance record."
      ]
    },
    {
      "cell_type": "code",
      "execution_count": 4,
      "metadata": {
        "id": "_C6vmwFHM-0T"
      },
      "outputs": [],
      "source": [
        "class Student:\n",
        "    def __init__(self, name, age, grade, student_id, attendance):\n",
        "        self.name = name\n",
        "        self.age = age\n",
        "        self.grade = grade\n",
        "        self.student_id = student_id\n",
        "        self.attendance = attendance\n",
        "\n",
        "    def update_attendance(self, date, status):\n",
        "        self.attendance[str(date)] = status\n",
        "\n",
        "    def get_attendance(self):\n",
        "        return self.attendance\n",
        "\n",
        "    def get_average_attendance(self):\n",
        "        atten_vals = self.attendance.values()\n",
        "        present_count = 0\n",
        "        for status in atten_vals:\n",
        "            if status.lower() == \"present\":\n",
        "                present_count += 1\n",
        "\n",
        "        atten_percentage = present_count/len(atten_vals) * 100\n",
        "        return atten_percentage"
      ]
    }
  ],
  "metadata": {
    "kernelspec": {
      "display_name": "computer-vision",
      "language": "python",
      "name": "python3"
    },
    "language_info": {
      "codemirror_mode": {
        "name": "ipython",
        "version": 3
      },
      "file_extension": ".py",
      "mimetype": "text/x-python",
      "name": "python",
      "nbconvert_exporter": "python",
      "pygments_lexer": "ipython3",
      "version": "3.7.12"
    },
    "colab": {
      "provenance": []
    }
  },
  "nbformat": 4,
  "nbformat_minor": 0
}