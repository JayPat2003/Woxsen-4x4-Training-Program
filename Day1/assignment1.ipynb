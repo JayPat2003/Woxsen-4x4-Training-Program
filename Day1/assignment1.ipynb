{
  "cells": [
    {
      "cell_type": "markdown",
      "metadata": {
        "id": "iqUPPrmXzEsW"
      },
      "source": [
        "# Assignment 1\n",
        "\n",
        "## By Jayesh Pattamatta: 21WU0103004"
      ]
    },
    {
      "cell_type": "markdown",
      "metadata": {
        "id": "sA5gIuWPzEsY"
      },
      "source": [
        "**Q1: In the below elements which of them are values or an expression? eg:- values can be integer or string and expressions will be mathematical operators.**\n",
        "- \\*   \n",
        "- 'hello'  \n",
        "- -87.8  \n",
        "- '-'  \n",
        "- /  \n",
        "- '+'  \n",
        "- 6\n",
        "\n",
        "Ans.\n",
        "**Expressions:**\n",
        "- \\*\n",
        "- \\-\n",
        "- \\+\n",
        "- /\n",
        "\n",
        "\n",
        "**Values:**\n",
        "- 'hello'\n",
        "- -87.8\n",
        "- 6\n",
        "\n",
        "\n",
        "---\n",
        "\n"
      ]
    },
    {
      "cell_type": "markdown",
      "metadata": {
        "id": "wQ4cTMBIzEsY"
      },
      "source": [
        "**Q2. What is the difference between string and variable?**\n",
        "\n",
        "Answer:\n",
        "\n",
        "**String:**\n",
        "\n",
        "- A string is a data type used to represent text or sequences of characters (e.g., `\"hello\"`, `\"123\"`, `\"John\"`).\n",
        "- It is enclosed in quotes (`\"`or `'`).\n",
        "- Example: `\"Hello, World!\"` or `'12345'`.\n",
        "\n",
        "**Variable:**\n",
        "\n",
        "- A variable is a symbolic name used to store data (like strings, numbers, or other types).\n",
        "- It acts as a container for values.\n",
        "- Example:\n",
        "\n",
        "\n",
        "\n",
        "```\n",
        "name = \"John\"  # Variable storing a string\n",
        "age = 25       # Variable storing a number\n",
        "```\n",
        "\n",
        "\n",
        "\n",
        "---\n",
        "\n"
      ]
    },
    {
      "cell_type": "markdown",
      "metadata": {
        "id": "Ptjj54IAzEsZ"
      },
      "source": [
        "**Q3. Describe three different data types.**  \n",
        "\n",
        "Answer:\n",
        "\n",
        "- **Strings** - Considered as an abstracted representation of an array of unicode characters. Signified by quotes placed around it. Example: `\"Hello\"`\n",
        "- **Float** - Numbers in floating point format (having a decimal)\n",
        "- **Boolean** - Values with a binary value (`True` or `False`)\n",
        "\n",
        "\n",
        "---\n",
        "\n"
      ]
    },
    {
      "cell_type": "markdown",
      "metadata": {
        "id": "qr_CQv7izEsZ"
      },
      "source": [
        "**Q4. What is an expression made up of? What do all expressions do?**\n",
        "\n",
        "Answer:\n",
        "\n",
        "1. **Made up of:**\n",
        "\n",
        "- Operands (values like numbers, strings, or variables)\n",
        "- Operators (like +, -, *, /, etc.)\n",
        "\n",
        "2. **What they do:**\n",
        "\n",
        "- Compute a value or result.\n",
        "- Example:\n",
        "`x + y * 5` is an expression that evaluates to a value.\n",
        "\n",
        "\n",
        "---\n",
        "\n"
      ]
    },
    {
      "cell_type": "markdown",
      "metadata": {
        "id": "OoBF95MOzEsZ"
      },
      "source": [
        "**Q5. This assignment statements, like spam = 10. What is the difference between an expression and a statement?**\n",
        "\n",
        "Answer:\n",
        "\n",
        "1. Expression:\n",
        "\n",
        "- Produces a value.\n",
        "- Example: `10 + 20`\n",
        "\n",
        "2. Statement:\n",
        "\n",
        "- Performs an action (like assignment or a control flow).\n",
        "- Example: `spam = 10`\n",
        "\n",
        "In short: Expressions evaluate to a value; statements execute an action.\n",
        "\n",
        "\n",
        "---\n",
        "\n"
      ]
    },
    {
      "cell_type": "markdown",
      "metadata": {
        "id": "Yol9PIGYzEsZ"
      },
      "source": [
        "**Q6. After running the following code, what does the variable bacon contain?**\n",
        "\n",
        "```\n",
        "bacon = 22  \n",
        "bacon + 1\n",
        "```\n",
        "\n",
        "Answer:\n",
        "\n",
        "The answer will of variable `bacon` will still be 22 because no assignment operation is performed on the following variable."
      ]
    },
    {
      "cell_type": "markdown",
      "metadata": {
        "id": "p4JFymOHzEsZ"
      },
      "source": [
        "**Q7. What should the values of the following two terms be?**\n",
        "\n",
        "\n",
        "```\n",
        "'spam' + 'spamspam'  \n",
        "'spam' * 3\n",
        "```\n",
        "\n",
        "Answer:\n",
        "1. spamspamspam\n",
        "2. spamspamspam\n",
        "\n",
        "\n",
        "---\n",
        "\n"
      ]
    },
    {
      "cell_type": "markdown",
      "metadata": {
        "id": "pz_XGOP1zEsa"
      },
      "source": [
        "**Q8. Why is eggs a valid variable name while 100 is invalid?**\n",
        "\n",
        "Answer:\n",
        "\n",
        " \"eggs\" doesn't break any rules for declaring identifiers in python. Meanwhile, \"100\" starts with a number which is not allowed in identifier naming.\n",
        "\n",
        "\n",
        "---\n",
        "\n"
      ]
    },
    {
      "cell_type": "markdown",
      "metadata": {
        "id": "95hEMxOUzEsa"
      },
      "source": [
        "**Q9. What three functions can be used to get the integer, floating-point number, or string version of a value? **\n",
        "Ans. In respective order:\n",
        "- `int()`\n",
        "- `float()`\n",
        "- `str()`\n",
        "\n",
        "\n",
        "---\n",
        "\n"
      ]
    },
    {
      "cell_type": "markdown",
      "metadata": {
        "id": "7y2wu5eXzEsa"
      },
      "source": [
        "**Q10. Why does this expression cause an error? How can you fix it?**\n",
        "\n",
        "`'I have eaten ' + 99 + ' burritos.' `\n",
        "\n",
        "Answer:\n",
        "\n",
        "**Reason**: Adding a string and integer is not supported.  \n",
        "**Fix**: Convert 99 to string using `str(99)`\n",
        "\n",
        "\n",
        "---\n",
        "\n"
      ]
    }
  ],
  "metadata": {
    "language_info": {
      "name": "python"
    },
    "colab": {
      "provenance": []
    }
  },
  "nbformat": 4,
  "nbformat_minor": 0
}